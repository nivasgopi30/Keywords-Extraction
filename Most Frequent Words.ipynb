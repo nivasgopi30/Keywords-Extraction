{
 "cells": [
  {
   "cell_type": "code",
   "execution_count": 58,
   "id": "04a98d3d-e9fb-4da2-baeb-f0688c9e4b68",
   "metadata": {},
   "outputs": [],
   "source": [
    "from lxml import etree\n",
    "from collections import Counter\n",
    "from nltk.tokenize import word_tokenize\n",
    "from nltk.stem import WordNetLemmatizer\n",
    "from nltk.corpus import stopwords\n",
    "from string import punctuation\n",
    "from nltk import pos_tag\n",
    "from sklearn.feature_extraction.text import TfidfVectorizer\n",
    "import numpy as np\n",
    "\n",
    "tree = etree.parse('./news.xml')\n",
    "root = tree.getroot()"
   ]
  },
  {
   "cell_type": "code",
   "execution_count": 59,
   "id": "6fd78966-31ec-442b-b22e-d156fca57b2f",
   "metadata": {},
   "outputs": [
    {
     "name": "stdout",
     "output_type": "stream",
     "text": [
      "Brain Disconnects During Sleep:\n",
      "sleep cortex consciousness tononi activity \n",
      "\n",
      "New Portuguese skull may be an early relative of Neandertals:\n",
      "skull fossil europe year trait \n",
      "\n",
      "Living by the coast could improve mental health:\n",
      "health mental coast research living \n",
      "\n",
      "Did you knowingly commit a crime? Brain scans could tell:\n",
      "brain study wa suitcase result \n",
      "\n",
      "Computer learns to detect skin cancer more accurately than doctors:\n",
      "dermatologist skin melanoma year cnn \n",
      "\n",
      "US economic growth stronger than expected despite weak demand:\n",
      "u quarter ha year rate \n",
      "\n",
      "Microsoft becomes third listed US firm to be valued at $1tn:\n",
      "microsoft share cloud market ha \n",
      "\n",
      "Apple's Siri is a better rapper than you:\n",
      "siri wa time rhyme ha \n",
      "\n",
      "Netflix viewers like comedy for breakfast and drama at lunch:\n",
      "netflix show day comedy viewer \n",
      "\n",
      "Loneliness May Make Quitting Smoking Even Tougher:\n",
      "smoking loneliness study smoke quit \n",
      "\n"
     ]
    }
   ],
   "source": [
    "for child in root.iter('value'):\n",
    "    \n",
    "    if child.get('name')=='head':\n",
    "        print(child.text + \":\")\n",
    "    \n",
    "    elif child.get('name')=='text':\n",
    "        tokens = word_tokenize(child.text.lower())\n",
    "        tokens = sorted(tokens, reverse=True)\n",
    "        \n",
    "        lemmatized_tokens = [WordNetLemmatizer().lemmatize(token) for token in tokens]\n",
    "        punctuations = list(punctuation)\n",
    "        \n",
    "        token_after_punc_removed = [token for token in lemmatized_tokens if token not in punctuations]\n",
    "        \n",
    "        stop_words = stopwords.words('english')\n",
    "        tokens_after_stopwords = [token for token in token_after_punc_removed if token not in stop_words]\n",
    "        \n",
    "        removed_empty_strings = [item for item in tokens_after_stopwords if item!='']\n",
    "        \n",
    "        only_noun_tokens = [token for token in removed_empty_strings if pos_tag([token])[0][1]=='NN']        \n",
    "        \n",
    "        most_freq_words = Counter(only_noun_tokens).most_common(5)\n",
    "        \n",
    "        for word_count_tuple in most_freq_words:\n",
    "            print(word_count_tuple[0], end=' ')\n",
    "        print('\\n')"
   ]
  },
  {
   "cell_type": "code",
   "execution_count": null,
   "id": "3ac0435f-1c83-4942-9e7e-bf0a9b4c7d8d",
   "metadata": {},
   "outputs": [],
   "source": []
  }
 ],
 "metadata": {
  "kernelspec": {
   "display_name": "Python 3 (ipykernel)",
   "language": "python",
   "name": "python3"
  },
  "language_info": {
   "codemirror_mode": {
    "name": "ipython",
    "version": 3
   },
   "file_extension": ".py",
   "mimetype": "text/x-python",
   "name": "python",
   "nbconvert_exporter": "python",
   "pygments_lexer": "ipython3",
   "version": "3.9.12"
  }
 },
 "nbformat": 4,
 "nbformat_minor": 5
}
